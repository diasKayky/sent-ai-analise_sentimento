{
 "cells": [
  {
   "cell_type": "markdown",
   "id": "2a98e582",
   "metadata": {},
   "source": [
    "# Modelo de ML: Rede Neural LSTM"
   ]
  },
  {
   "cell_type": "markdown",
   "id": "b893a1a6",
   "metadata": {},
   "source": [
    "## Configurações iniciais"
   ]
  },
  {
   "cell_type": "code",
   "execution_count": 164,
   "id": "2916a3f9",
   "metadata": {},
   "outputs": [],
   "source": [
    "# Carregamento de datasets processados\n",
    "X_train = pl.load(open('../data/processed/X_train.pkl', 'rb'))\n",
    "X_train_deploy = pl.load(open('../data/processed/X_train_deploy.pkl', 'rb'))\n",
    "X_test = pl.load(open('../data/processed/X_test.pkl', 'rb'))\n",
    "Y_train = pl.load(open('../data/processed/Y_train.pkl', 'rb'))\n",
    "Y_test = pl.load(open('../data/processed/Y_test.pkl', 'rb'))"
   ]
  },
  {
   "cell_type": "code",
   "execution_count": 115,
   "id": "c89e8cac",
   "metadata": {},
   "outputs": [],
   "source": [
    "# Importações de libraries importantes\n",
    "import pandas as pd\n",
    "import numpy as np\n",
    "import pickle as pl\n",
    "import datetime\n",
    "import seaborn as sns\n",
    "import matplotlib.pyplot as plt\n",
    "import pickle as pl\n",
    "from tensorflow.keras.models import Sequential\n",
    "from tensorflow.keras.layers import Bidirectional, LSTM, Embedding, Dense, Dropout"
   ]
  },
  {
   "cell_type": "markdown",
   "id": "d08a9e65",
   "metadata": {},
   "source": [
    "## Construção do Modelo"
   ]
  },
  {
   "cell_type": "code",
   "execution_count": 75,
   "id": "9fa3c64f",
   "metadata": {},
   "outputs": [],
   "source": [
    "modelo = Sequential()"
   ]
  },
  {
   "cell_type": "markdown",
   "id": "3c40c4a2",
   "metadata": {},
   "source": [
    "### Camadas de Entrada"
   ]
  },
  {
   "cell_type": "code",
   "execution_count": 76,
   "id": "8d08a364",
   "metadata": {},
   "outputs": [],
   "source": [
    "# Camada de embedding que transforma as sequências em vetores densos\n",
    "\n",
    "dimensao_embedding = 32\n",
    "tamanho_frases = 250\n",
    "vocabulario_tamanho = 13000\n",
    "\n",
    "modelo.add(Embedding(vocabulario_tamanho, dimensao_embedding, input_length=tamanho_frases))"
   ]
  },
  {
   "cell_type": "markdown",
   "id": "57139902",
   "metadata": {},
   "source": [
    "### Camadas Escondidas"
   ]
  },
  {
   "cell_type": "code",
   "execution_count": 77,
   "id": "92ece9bb",
   "metadata": {},
   "outputs": [],
   "source": [
    "# Camada LSTM bidirecional para poder relembrar tanto passado --> futuro quanto futuro --> passado\n",
    "\n",
    "neuronios = 32\n",
    "modelo.add(Bidirectional(LSTM(neuronios)))\n",
    "\n",
    "# Camada dropout\n",
    "\n",
    "modelo.add(Dropout(0.1))"
   ]
  },
  {
   "cell_type": "markdown",
   "id": "0835147b",
   "metadata": {},
   "source": [
    "### Camadas de Saída"
   ]
  },
  {
   "cell_type": "code",
   "execution_count": 78,
   "id": "6cc34b5a",
   "metadata": {},
   "outputs": [],
   "source": [
    "# Camada densa que passa a saída (output)\n",
    "modelo.add(Dense(16, activation='relu'))\n",
    "modelo.add(Dense(1, activation='sigmoid'))"
   ]
  },
  {
   "cell_type": "markdown",
   "id": "ff5ab0d7",
   "metadata": {},
   "source": [
    "## Sumário do Modelo"
   ]
  },
  {
   "cell_type": "code",
   "execution_count": 79,
   "id": "95d91fda",
   "metadata": {},
   "outputs": [
    {
     "name": "stdout",
     "output_type": "stream",
     "text": [
      "Model: \"sequential_8\"\n",
      "_________________________________________________________________\n",
      " Layer (type)                Output Shape              Param #   \n",
      "=================================================================\n",
      " embedding_9 (Embedding)     (None, 250, 32)           416000    \n",
      "                                                                 \n",
      " bidirectional_8 (Bidirectio  (None, 64)               16640     \n",
      " nal)                                                            \n",
      "                                                                 \n",
      " dropout_2 (Dropout)         (None, 64)                0         \n",
      "                                                                 \n",
      " dense_12 (Dense)            (None, 16)                1040      \n",
      "                                                                 \n",
      " dense_13 (Dense)            (None, 1)                 17        \n",
      "                                                                 \n",
      "=================================================================\n",
      "Total params: 433,697\n",
      "Trainable params: 433,697\n",
      "Non-trainable params: 0\n",
      "_________________________________________________________________\n"
     ]
    }
   ],
   "source": [
    "modelo.summary()"
   ]
  },
  {
   "cell_type": "markdown",
   "id": "bf7af058",
   "metadata": {},
   "source": [
    "## Compilação e Treinamento do Modelo "
   ]
  },
  {
   "cell_type": "code",
   "execution_count": 80,
   "id": "7be4a49a",
   "metadata": {},
   "outputs": [],
   "source": [
    "modelo.compile(loss='binary_crossentropy', optimizer='adam', metrics=['accuracy'])"
   ]
  },
  {
   "cell_type": "code",
   "execution_count": 82,
   "id": "28ef5427",
   "metadata": {},
   "outputs": [
    {
     "name": "stdout",
     "output_type": "stream",
     "text": [
      "Epoch 1/4\n",
      "Epoch 2/4\n",
      "Epoch 3/4\n",
      "Epoch 4/4\n",
      "O tempo que levou para treinar é de 0:31:44.801911\n"
     ]
    }
   ],
   "source": [
    "now = datetime.datetime.now()\n",
    "modelo_ = modelo.fit(X_train, Y_train, epochs=4, validation_data=(X_test, Y_test), verbose=3, batch_size=5)\n",
    "\n",
    "now2 = datetime.datetime.now()\n",
    "time = now2 - now\n",
    "\n",
    "print(f\"O tempo que levou para treinar é de {time}\")"
   ]
  },
  {
   "cell_type": "markdown",
   "id": "658138ea",
   "metadata": {},
   "source": [
    "## Avaliação do Modelo"
   ]
  },
  {
   "cell_type": "code",
   "execution_count": 83,
   "id": "de22b304",
   "metadata": {},
   "outputs": [
    {
     "data": {
      "text/html": [
       "<div>\n",
       "<style scoped>\n",
       "    .dataframe tbody tr th:only-of-type {\n",
       "        vertical-align: middle;\n",
       "    }\n",
       "\n",
       "    .dataframe tbody tr th {\n",
       "        vertical-align: top;\n",
       "    }\n",
       "\n",
       "    .dataframe thead th {\n",
       "        text-align: right;\n",
       "    }\n",
       "</style>\n",
       "<table border=\"1\" class=\"dataframe\">\n",
       "  <thead>\n",
       "    <tr style=\"text-align: right;\">\n",
       "      <th></th>\n",
       "      <th>loss</th>\n",
       "      <th>accuracy</th>\n",
       "      <th>val_loss</th>\n",
       "      <th>val_accuracy</th>\n",
       "    </tr>\n",
       "  </thead>\n",
       "  <tbody>\n",
       "    <tr>\n",
       "      <th>0</th>\n",
       "      <td>0.389602</td>\n",
       "      <td>0.832212</td>\n",
       "      <td>0.440385</td>\n",
       "      <td>0.810000</td>\n",
       "    </tr>\n",
       "    <tr>\n",
       "      <th>1</th>\n",
       "      <td>0.248570</td>\n",
       "      <td>0.903341</td>\n",
       "      <td>0.281084</td>\n",
       "      <td>0.882133</td>\n",
       "    </tr>\n",
       "    <tr>\n",
       "      <th>2</th>\n",
       "      <td>0.198446</td>\n",
       "      <td>0.926259</td>\n",
       "      <td>0.275907</td>\n",
       "      <td>0.891200</td>\n",
       "    </tr>\n",
       "    <tr>\n",
       "      <th>3</th>\n",
       "      <td>0.154170</td>\n",
       "      <td>0.945529</td>\n",
       "      <td>0.291218</td>\n",
       "      <td>0.894933</td>\n",
       "    </tr>\n",
       "  </tbody>\n",
       "</table>\n",
       "</div>"
      ],
      "text/plain": [
       "       loss  accuracy  val_loss  val_accuracy\n",
       "0  0.389602  0.832212  0.440385      0.810000\n",
       "1  0.248570  0.903341  0.281084      0.882133\n",
       "2  0.198446  0.926259  0.275907      0.891200\n",
       "3  0.154170  0.945529  0.291218      0.894933"
      ]
     },
     "execution_count": 83,
     "metadata": {},
     "output_type": "execute_result"
    }
   ],
   "source": [
    "history = pd.DataFrame(modelo_.history)\n",
    "history"
   ]
  },
  {
   "cell_type": "code",
   "execution_count": 84,
   "id": "52ae7be3",
   "metadata": {},
   "outputs": [
    {
     "name": "stdout",
     "output_type": "stream",
     "text": [
      "235/235 [==============================] - 8s 22ms/step\n"
     ]
    },
    {
     "data": {
      "text/plain": [
       "array([0, 0, 1, ..., 1, 1, 0])"
      ]
     },
     "execution_count": 84,
     "metadata": {},
     "output_type": "execute_result"
    }
   ],
   "source": [
    "y_pred = modelo.predict(X_test)\n",
    "y_pred = np.array(list(map(lambda x: 1 if x > 0.5 else 0, y_pred)))\n",
    "y_pred"
   ]
  },
  {
   "cell_type": "code",
   "execution_count": 85,
   "id": "904a125d",
   "metadata": {},
   "outputs": [
    {
     "name": "stdout",
     "output_type": "stream",
     "text": [
      "              precision    recall  f1-score   support\n",
      "\n",
      "           0       0.89      0.90      0.90      3755\n",
      "           1       0.90      0.89      0.89      3745\n",
      "\n",
      "    accuracy                           0.89      7500\n",
      "   macro avg       0.90      0.89      0.89      7500\n",
      "weighted avg       0.90      0.89      0.89      7500\n",
      "\n"
     ]
    }
   ],
   "source": [
    "from sklearn.metrics import classification_report\n",
    "\n",
    "print(classification_report(Y_test, y_pred))"
   ]
  },
  {
   "cell_type": "code",
   "execution_count": 112,
   "id": "feabbf98",
   "metadata": {},
   "outputs": [],
   "source": [
    "def plotar_dados(titulo, train, val, ylabel):\n",
    "    \n",
    "    sns.set()\n",
    "    ax, fig = plt.subplots(figsize=(8, 5))\n",
    "    # Linhas de treinamento e teste\n",
    "    fig.plot(history.index, history[train], label=\"Treinamento\")\n",
    "    fig.plot(history.index, history[val], label=\"Teste\")\n",
    "    #Títulos\n",
    "    plt.xlabel(\"Épocas\")\n",
    "    plt.title(titulo)\n",
    "    plt.ylabel(ylabel)\n",
    "    plt.legend()\n",
    "    plt.show()"
   ]
  },
  {
   "cell_type": "code",
   "execution_count": 113,
   "id": "fc96f494",
   "metadata": {},
   "outputs": [
    {
     "data": {
      "image/png": "[encoded data removed]",
      "text/plain": [
       "<Figure size 800x500 with 1 Axes>"
      ]
     },
     "metadata": {},
     "output_type": "display_data"
    }
   ],
   "source": [
    "plotar_dados(\"Acurácia x Épocas\", \"accuracy\", \"val_accuracy\", \"Acurácia\")"
   ]
  },
  {
   "cell_type": "code",
   "execution_count": 114,
   "id": "0fb8cf07",
   "metadata": {},
   "outputs": [
    {
     "data": {
      "image/png": "[encoded data removed]",
      "text/plain": [
       "<Figure size 800x500 with 1 Axes>"
      ]
     },
     "metadata": {},
     "output_type": "display_data"
    }
   ],
   "source": [
    "plotar_dados(\"Perda x Épocas\", \"loss\", \"val_loss\", \"Perda\")"
   ]
  },
  {
   "cell_type": "markdown",
   "id": "4bca7950",
   "metadata": {},
   "source": [
    "## Avaliação Prática "
   ]
  },
  {
   "cell_type": "code",
   "execution_count": 167,
   "id": "d5d55124",
   "metadata": {},
   "outputs": [],
   "source": [
    "import re\n",
    "import nltk\n",
    "from nltk.corpus import stopwords\n",
    "from tensorflow.keras.preprocessing.text import Tokenizer\n",
    "from tensorflow.keras.preprocessing.sequence import pad_sequences\n",
    "\n",
    "def prep_dados(texto: str):\n",
    "    \n",
    "    # Limpa o texto (remove alfanuméricos, simbolos, etc.)\n",
    "    texto = re.sub(r'[^a-zA-Z0-9\\s]', '', texto)\n",
    "    texto = texto.lower()\n",
    "    \n",
    "    #Remove palavras desnecessárias\n",
    "    stopwords_ = set(stopwords.words('english'))\n",
    "    ma = lambda x: ' '.join([word for word in x.split() if word not in (stopwords_)])\n",
    "    dados_prep = ma(texto)\n",
    "    \n",
    "    # Lematiza o texto (pega somente a raiz das palavras)\n",
    "    tokenizador = nltk.tokenize.WhitespaceTokenizer()\n",
    "    lematizador = nltk.stem.WordNetLemmatizer()\n",
    "        \n",
    "    st = \"\"\n",
    "        \n",
    "    for palavra in tokenizador.tokenize(dados_prep):\n",
    "        st = st + lematizador.lemmatize(palavra) + \" \"\n",
    "    \n",
    "    \n",
    "    # Tranforma em array do numpy\n",
    "    dados_prep = np.array([dados_prep])\n",
    "    \n",
    "    # Tokeniza\n",
    "    \n",
    "    vocabulario_tamanho = 13000\n",
    "    oov_tok = \"<OOV>\"\n",
    "    tokenizador = Tokenizer(num_words=vocabulario_tamanho, oov_token=oov_tok)\n",
    "    tokenizador.fit_on_texts(X_train_deploy)\n",
    "    dados_prep = tokenizador.texts_to_sequences(dados_prep)\n",
    "    \n",
    "    # Padding para adequar o tamanho da sequência\n",
    "    tamanho_frase = len(dados_prep[0])\n",
    "    dados_prep = pad_sequences(dados_prep, maxlen=tamanho_frase, padding='post', truncating='post')\n",
    "    \n",
    "    return dados_prep\n",
    "    "
   ]
  },
  {
   "cell_type": "code",
   "execution_count": 176,
   "id": "3a5789fb",
   "metadata": {
    "scrolled": true
   },
   "outputs": [
    {
     "name": "stdout",
     "output_type": "stream",
     "text": [
      "1/1 [==============================] - 1s 1s/step\n",
      "O valor da predição para a frase negativa é: 0.3836265206336975\n",
      "1/1 [==============================] - 1s 890ms/step\n",
      "O valor da predição para a frase positiva é: 0.7359124422073364\n",
      "1/1 [==============================] - 1s 1s/step\n",
      "O valor da predição para a frase neutra é: 0.5178763270378113\n"
     ]
    }
   ],
   "source": [
    "negativo = prep_dados(\"Terrible movie I hated I could vomit disgusting terrible terrible ass watching.\")\n",
    "positivo = prep_dados(\"So lovely, beautiful, love, I could watch it everytime, beautiful image.\")\n",
    "neutro = prep_dados(\"not Bad It was normal, I liked it partially!!!!!!\")\n",
    "\n",
    "print(f\"O valor da predição para a frase negativa é: {modelo.predict(negativo)[0][0]}\")\n",
    "print(f\"O valor da predição para a frase positiva é: {modelo.predict(positivo)[0][0]}\")\n",
    "print(f\"O valor da predição para a frase neutra é: {modelo.predict(neutro)[0][0]}\")"
   ]
  },
  {
   "cell_type": "markdown",
   "id": "451275f7",
   "metadata": {},
   "source": [
    "## Serialização do Modelo "
   ]
  },
  {
   "cell_type": "code",
   "execution_count": 174,
   "id": "9a117cc8",
   "metadata": {},
   "outputs": [
    {
     "name": "stdout",
     "output_type": "stream",
     "text": [
      "Keras weights file (<HDF5 file \"variables.h5\" (mode r+)>) saving:\n",
      "...layers\\bidirectional\n",
      "......vars\n",
      "...layers\\bidirectional\\backward_layer\n",
      "......vars\n",
      "...layers\\bidirectional\\backward_layer\\cell\n",
      "......vars\n",
      ".........0\n",
      ".........1\n",
      ".........2\n",
      "...layers\\bidirectional\\forward_layer\n",
      "......vars\n",
      "...layers\\bidirectional\\forward_layer\\cell\n",
      "......vars\n",
      ".........0\n",
      ".........1\n",
      ".........2\n",
      "...layers\\bidirectional\\layer\n",
      "......vars\n",
      "...layers\\bidirectional\\layer\\cell\n",
      "......vars\n",
      "...layers\\dense\n",
      "......vars\n",
      ".........0\n",
      ".........1\n",
      "...layers\\dense_1\n",
      "......vars\n",
      ".........0\n",
      ".........1\n",
      "...layers\\dropout\n",
      "......vars\n",
      "...layers\\embedding\n",
      "......vars\n",
      ".........0\n",
      "...metrics\\mean\n",
      "......vars\n",
      ".........0\n",
      ".........1\n",
      "...metrics\\mean_metric_wrapper\n",
      "......vars\n",
      ".........0\n",
      ".........1\n",
      "...optimizer\n",
      "......vars\n",
      ".........0\n",
      ".........1\n",
      ".........10\n",
      ".........11\n",
      ".........12\n",
      ".........13\n",
      ".........14\n",
      ".........15\n",
      ".........16\n",
      ".........17\n",
      ".........18\n",
      ".........19\n",
      ".........2\n",
      ".........20\n",
      ".........21\n",
      ".........22\n",
      ".........3\n",
      ".........4\n",
      ".........5\n",
      ".........6\n",
      ".........7\n",
      ".........8\n",
      ".........9\n",
      "...vars\n",
      "Keras model archive saving:\n",
      "File Name                                             Modified             Size\n",
      "config.json                                    2023-02-23 18:55:54         2930\n",
      "metadata.json                                  2023-02-23 18:55:54           64\n",
      "variables.h5                                   2023-02-23 18:55:54      5247640\n"
     ]
    }
   ],
   "source": [
    "# Salva o modelo treinado no formato pickle\n",
    "pl.dump(modelo, open('../models/modelo.pkl', 'wb'))"
   ]
  }
 ],
 "metadata": {
  "kernelspec": {
   "display_name": "Python 3 (ipykernel)",
   "language": "python",
   "name": "python3"
  },
  "language_info": {
   "codemirror_mode": {
    "name": "ipython",
    "version": 3
   },
   "file_extension": ".py",
   "mimetype": "text/x-python",
   "name": "python",
   "nbconvert_exporter": "python",
   "pygments_lexer": "ipython3",
   "version": "3.9.13"
  }
 },
 "nbformat": 4,
 "nbformat_minor": 5
}
