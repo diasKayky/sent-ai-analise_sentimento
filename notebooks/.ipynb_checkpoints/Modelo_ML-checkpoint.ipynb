{
 "cells": [
  {
   "cell_type": "markdown",
   "id": "2a98e582",
   "metadata": {},
   "source": [
    "# Modelo de ML: Rede Neural LSTM"
   ]
  },
  {
   "cell_type": "markdown",
   "id": "b893a1a6",
   "metadata": {},
   "source": [
    "## Configurações iniciais"
   ]
  },
  {
   "cell_type": "code",
   "execution_count": 49,
   "id": "c89e8cac",
   "metadata": {},
   "outputs": [],
   "source": [
    "# Importações de libraries importantes\n",
    "import pandas as pd\n",
    "import numpy as np\n",
    "import pickle as pl\n",
    "import tensorflow as tf\n",
    "import datetime\n",
    "import tensorflow.keras\n",
    "import seaborn as sns\n",
    "import matplotlib.pyplot as plt\n",
    "import tensorflow.keras.backend as K\n",
    "import pickle as pl\n",
    "from tensorflow.keras.models import Model\n",
    "from tensorflow.keras.layers import Input, Activation, Bidirectional, RepeatVector, Permute, Reshape, LSTM, Multiply, Lambda, Embedding, Dense, Dropout, Multiply, Concatenate, Flatten"
   ]
  },
  {
   "cell_type": "code",
   "execution_count": 50,
   "id": "2916a3f9",
   "metadata": {},
   "outputs": [],
   "source": [
    "# Carregamento de datasets processados\n",
    "X_train = pl.load(open('../data/processed/X_train.pkl', 'rb'))\n",
    "X_train_deploy = pl.load(open('../data/processed/X_train_deploy.pkl', 'rb'))\n",
    "X_test = pl.load(open('../data/processed/X_test.pkl', 'rb'))\n",
    "Y_train = pl.load(open('../data/processed/Y_train.pkl', 'rb'))\n",
    "Y_test = pl.load(open('../data/processed/Y_test.pkl', 'rb'))"
   ]
  },
  {
   "cell_type": "markdown",
   "id": "d08a9e65",
   "metadata": {},
   "source": [
    "## Construção do Modelo"
   ]
  },
  {
   "cell_type": "markdown",
   "id": "3c40c4a2",
   "metadata": {},
   "source": [
    "### Camadas de Entrada"
   ]
  },
  {
   "cell_type": "code",
   "execution_count": 51,
   "id": "8d08a364",
   "metadata": {},
   "outputs": [],
   "source": [
    "dimensao_embedding = 32\n",
    "tamanho_frases = 400\n",
    "vocabulario_tamanho = 178800\n",
    "\n",
    "# Camada de entrada\n",
    "inputs = Input(shape=(tamanho_frases, ))\n",
    "\n",
    "# Camada de embedding que transforma as sequências em vetores densos\n",
    "embedding = Embedding(vocabulario_tamanho, dimensao_embedding, input_length=tamanho_frases)(inputs)"
   ]
  },
  {
   "cell_type": "markdown",
   "id": "57139902",
   "metadata": {},
   "source": [
    "### Camadas Escondidas"
   ]
  },
  {
   "cell_type": "code",
   "execution_count": 52,
   "id": "92ece9bb",
   "metadata": {},
   "outputs": [],
   "source": [
    "# Camada LSTM bidirecional para poder relembrar tanto passado --> futuro quanto futuro --> passado\n",
    "\n",
    "neuronios = 32\n",
    "lstm = Bidirectional(LSTM(neuronios, return_sequences=True))(embedding)\n",
    "\n",
    "# Camada dropout\n",
    "\n",
    "dropout = Dropout(0.1)\n",
    "\n",
    "\n",
    "# Mecanismo de atenção\n",
    "\n",
    "attention_weights = Dense(1, activation='tanh')(lstm)\n",
    "attention_weights = Flatten()(attention_weights)\n",
    "attention_weights = Activation('softmax')(attention_weights)\n",
    "attention_weights = RepeatVector(neuronios*2)(attention_weights)\n",
    "attention_weights = Permute([2, 1])(attention_weights)\n",
    "attention_weights = Reshape((tamanho_frases, neuronios*2))(attention_weights)\n",
    "attention_output = Multiply()([lstm, attention_weights])\n",
    "attention_output = Lambda(lambda x: K.sum(x, axis=1))(attention_output)"
   ]
  },
  {
   "cell_type": "markdown",
   "id": "0835147b",
   "metadata": {},
   "source": [
    "### Camadas de Saída"
   ]
  },
  {
   "cell_type": "code",
   "execution_count": 53,
   "id": "6cc34b5a",
   "metadata": {},
   "outputs": [],
   "source": [
    "# Camada densa que passa a saída (output)\n",
    "output = Dense(16, activation='relu')(attention_output)\n",
    "output = Dense(1, activation='sigmoid')(output)"
   ]
  },
  {
   "cell_type": "markdown",
   "id": "ff5ab0d7",
   "metadata": {},
   "source": [
    "## Sumário do Modelo"
   ]
  },
  {
   "cell_type": "code",
   "execution_count": 54,
   "id": "95d91fda",
   "metadata": {},
   "outputs": [
    {
     "name": "stdout",
     "output_type": "stream",
     "text": [
      "Model: \"model_2\"\n",
      "__________________________________________________________________________________________________\n",
      " Layer (type)                   Output Shape         Param #     Connected to                     \n",
      "==================================================================================================\n",
      " input_3 (InputLayer)           [(None, 400)]        0           []                               \n",
      "                                                                                                  \n",
      " embedding_2 (Embedding)        (None, 400, 32)      5721600     ['input_3[0][0]']                \n",
      "                                                                                                  \n",
      " bidirectional_2 (Bidirectional  (None, 400, 64)     16640       ['embedding_2[0][0]']            \n",
      " )                                                                                                \n",
      "                                                                                                  \n",
      " dense_6 (Dense)                (None, 400, 1)       65          ['bidirectional_2[0][0]']        \n",
      "                                                                                                  \n",
      " flatten_2 (Flatten)            (None, 400)          0           ['dense_6[0][0]']                \n",
      "                                                                                                  \n",
      " activation_2 (Activation)      (None, 400)          0           ['flatten_2[0][0]']              \n",
      "                                                                                                  \n",
      " repeat_vector_2 (RepeatVector)  (None, 64, 400)     0           ['activation_2[0][0]']           \n",
      "                                                                                                  \n",
      " permute_2 (Permute)            (None, 400, 64)      0           ['repeat_vector_2[0][0]']        \n",
      "                                                                                                  \n",
      " reshape_2 (Reshape)            (None, 400, 64)      0           ['permute_2[0][0]']              \n",
      "                                                                                                  \n",
      " multiply_2 (Multiply)          (None, 400, 64)      0           ['bidirectional_2[0][0]',        \n",
      "                                                                  'reshape_2[0][0]']              \n",
      "                                                                                                  \n",
      " lambda_2 (Lambda)              (None, 64)           0           ['multiply_2[0][0]']             \n",
      "                                                                                                  \n",
      " dense_7 (Dense)                (None, 16)           1040        ['lambda_2[0][0]']               \n",
      "                                                                                                  \n",
      " dense_8 (Dense)                (None, 1)            17          ['dense_7[0][0]']                \n",
      "                                                                                                  \n",
      "==================================================================================================\n",
      "Total params: 5,739,362\n",
      "Trainable params: 5,739,362\n",
      "Non-trainable params: 0\n",
      "__________________________________________________________________________________________________\n"
     ]
    }
   ],
   "source": [
    "modelo = Model(inputs=inputs, outputs=output)\n",
    "modelo.summary()"
   ]
  },
  {
   "cell_type": "markdown",
   "id": "bf7af058",
   "metadata": {},
   "source": [
    "## Compilação e Treinamento do Modelo "
   ]
  },
  {
   "cell_type": "code",
   "execution_count": 55,
   "id": "7be4a49a",
   "metadata": {},
   "outputs": [],
   "source": [
    "modelo.compile(loss='binary_crossentropy', optimizer='adam', metrics=['accuracy'])"
   ]
  },
  {
   "cell_type": "code",
   "execution_count": 56,
   "id": "28ef5427",
   "metadata": {},
   "outputs": [
    {
     "name": "stdout",
     "output_type": "stream",
     "text": [
      "Epoch 1/4\n",
      "Epoch 2/4\n",
      "Epoch 3/4\n",
      "Epoch 4/4\n",
      "O tempo que levou para treinar é de 6:52:46.793141\n"
     ]
    }
   ],
   "source": [
    "now = datetime.datetime.now()\n",
    "modelo_ = modelo.fit(X_train, Y_train, epochs=4, validation_data=(X_test, Y_test), verbose=3, batch_size=5)\n",
    "\n",
    "now2 = datetime.datetime.now()\n",
    "time = now2 - now\n",
    "\n",
    "print(f\"O tempo que levou para treinar é de {time}\")"
   ]
  },
  {
   "cell_type": "markdown",
   "id": "e6f8b80b",
   "metadata": {},
   "source": [
    "## Avaliação do Modelo"
   ]
  },
  {
   "cell_type": "code",
   "execution_count": 57,
   "id": "de22b304",
   "metadata": {},
   "outputs": [
    {
     "data": {
      "text/html": [
       "<div>\n",
       "<style scoped>\n",
       "    .dataframe tbody tr th:only-of-type {\n",
       "        vertical-align: middle;\n",
       "    }\n",
       "\n",
       "    .dataframe tbody tr th {\n",
       "        vertical-align: top;\n",
       "    }\n",
       "\n",
       "    .dataframe thead th {\n",
       "        text-align: right;\n",
       "    }\n",
       "</style>\n",
       "<table border=\"1\" class=\"dataframe\">\n",
       "  <thead>\n",
       "    <tr style=\"text-align: right;\">\n",
       "      <th></th>\n",
       "      <th>loss</th>\n",
       "      <th>accuracy</th>\n",
       "      <th>val_loss</th>\n",
       "      <th>val_accuracy</th>\n",
       "    </tr>\n",
       "  </thead>\n",
       "  <tbody>\n",
       "    <tr>\n",
       "      <th>0</th>\n",
       "      <td>0.390770</td>\n",
       "      <td>0.814847</td>\n",
       "      <td>0.283109</td>\n",
       "      <td>0.882844</td>\n",
       "    </tr>\n",
       "    <tr>\n",
       "      <th>1</th>\n",
       "      <td>0.179320</td>\n",
       "      <td>0.929517</td>\n",
       "      <td>0.245641</td>\n",
       "      <td>0.898479</td>\n",
       "    </tr>\n",
       "    <tr>\n",
       "      <th>2</th>\n",
       "      <td>0.102288</td>\n",
       "      <td>0.959996</td>\n",
       "      <td>0.254663</td>\n",
       "      <td>0.900693</td>\n",
       "    </tr>\n",
       "    <tr>\n",
       "      <th>3</th>\n",
       "      <td>0.063431</td>\n",
       "      <td>0.973641</td>\n",
       "      <td>0.320283</td>\n",
       "      <td>0.898479</td>\n",
       "    </tr>\n",
       "  </tbody>\n",
       "</table>\n",
       "</div>"
      ],
      "text/plain": [
       "       loss  accuracy  val_loss  val_accuracy\n",
       "0  0.390770  0.814847  0.283109      0.882844\n",
       "1  0.179320  0.929517  0.245641      0.898479\n",
       "2  0.102288  0.959996  0.254663      0.900693\n",
       "3  0.063431  0.973641  0.320283      0.898479"
      ]
     },
     "execution_count": 57,
     "metadata": {},
     "output_type": "execute_result"
    }
   ],
   "source": [
    "history = pd.DataFrame(modelo_.history)\n",
    "history"
   ]
  },
  {
   "cell_type": "code",
   "execution_count": 58,
   "id": "52ae7be3",
   "metadata": {},
   "outputs": [
    {
     "name": "stdout",
     "output_type": "stream",
     "text": [
      "438/438 [==============================] - 19s 37ms/step\n"
     ]
    },
    {
     "data": {
      "text/plain": [
       "array([0, 0, 0, ..., 0, 1, 1])"
      ]
     },
     "execution_count": 58,
     "metadata": {},
     "output_type": "execute_result"
    }
   ],
   "source": [
    "y_pred = modelo.predict(X_test)\n",
    "y_pred = np.array(list(map(lambda x: 1 if x > 0.5 else 0, y_pred)))\n",
    "y_pred"
   ]
  },
  {
   "cell_type": "code",
   "execution_count": 59,
   "id": "904a125d",
   "metadata": {},
   "outputs": [
    {
     "name": "stdout",
     "output_type": "stream",
     "text": [
      "              precision    recall  f1-score   support\n",
      "\n",
      "           0       0.87      0.94      0.90      7162\n",
      "           1       0.93      0.85      0.89      6845\n",
      "\n",
      "    accuracy                           0.90     14007\n",
      "   macro avg       0.90      0.90      0.90     14007\n",
      "weighted avg       0.90      0.90      0.90     14007\n",
      "\n"
     ]
    }
   ],
   "source": [
    "from sklearn.metrics import classification_report\n",
    "\n",
    "print(classification_report(Y_test, y_pred))"
   ]
  },
  {
   "cell_type": "code",
   "execution_count": 60,
   "id": "feabbf98",
   "metadata": {},
   "outputs": [],
   "source": [
    "def plotar_dados(titulo, train, val, ylabel):\n",
    "    \n",
    "    sns.set()\n",
    "    ax, fig = plt.subplots(figsize=(8, 5))\n",
    "    # Linhas de treinamento e teste\n",
    "    fig.plot(history.index, history[train], label=\"Treinamento\")\n",
    "    fig.plot(history.index, history[val], label=\"Validação\")\n",
    "    #Títulos\n",
    "    plt.xlabel(\"Épocas\")\n",
    "    plt.title(titulo)\n",
    "    plt.ylabel(ylabel)\n",
    "    plt.legend()\n",
    "    plt.show()"
   ]
  },
  {
   "cell_type": "code",
   "execution_count": 61,
   "id": "53b141b1",
   "metadata": {},
   "outputs": [
    {
     "data": {
      "image/png": "[encoded data removed]",
      "text/plain": [
       "<Figure size 800x500 with 1 Axes>"
      ]
     },
     "metadata": {},
     "output_type": "display_data"
    }
   ],
   "source": [
    "plotar_dados(\"Acurácia x Épocas\", \"accuracy\", \"val_accuracy\", \"Acurácia\")"
   ]
  },
  {
   "cell_type": "code",
   "execution_count": 62,
   "id": "a6d5e98b",
   "metadata": {},
   "outputs": [
    {
     "data": {
      "image/png": "[encoded data removed]",
      "text/plain": [
       "<Figure size 800x500 with 1 Axes>"
      ]
     },
     "metadata": {},
     "output_type": "display_data"
    }
   ],
   "source": [
    "plotar_dados(\"Perda x Épocas\", \"loss\", \"val_loss\", \"Perda\")"
   ]
  },
  {
   "cell_type": "markdown",
   "id": "7c169a4e",
   "metadata": {},
   "source": [
    "## Avaliação Prática "
   ]
  },
  {
   "cell_type": "code",
   "execution_count": 65,
   "id": "9ebba2ff",
   "metadata": {},
   "outputs": [],
   "source": [
    "import re\n",
    "import nltk\n",
    "from nltk.corpus import stopwords\n",
    "from tensorflow.keras.preprocessing.text import Tokenizer\n",
    "from tensorflow.keras.preprocessing.sequence import pad_sequences\n",
    "\n",
    "def prep_dados(texto: str):\n",
    "    \n",
    "    # Limpa o texto (remove alfanuméricos, simbolos, etc.)\n",
    "    texto = re.sub(r'[^a-zA-Z0-9\\s]', '', texto)\n",
    "    texto = texto.lower()\n",
    "    \n",
    "    #Remove palavras desnecessárias\n",
    "    stopwords_ = set(stopwords.words('english'))\n",
    "    ma = lambda x: ' '.join([word for word in x.split() if word not in (stopwords_)])\n",
    "    dados_prep = ma(texto)\n",
    "    \n",
    "    # Lematiza o texto (pega somente a raiz das palavras)\n",
    "    tokenizador = nltk.tokenize.WhitespaceTokenizer()\n",
    "    lematizador = nltk.stem.WordNetLemmatizer()\n",
    "        \n",
    "    st = \"\"\n",
    "        \n",
    "    for palavra in tokenizador.tokenize(dados_prep):\n",
    "        st = st + lematizador.lemmatize(palavra) + \" \"\n",
    "    \n",
    "    \n",
    "    # Tranforma em array do numpy\n",
    "    dados_prep = np.array([dados_prep])\n",
    "    \n",
    "    # Tokeniza\n",
    " \n",
    "    oov_tok = \"<OOV>\"\n",
    "    tokenizador = Tokenizer(oov_token=oov_tok)\n",
    "    tokenizador.fit_on_texts(X_train_deploy)\n",
    "    dados_prep = tokenizador.texts_to_sequences(dados_prep)\n",
    "    \n",
    "    # Padding para adequar o tamanho da sequência\n",
    "    tamanho_frases = 400\n",
    "    dados_prep = pad_sequences(dados_prep, maxlen=tamanho_frases, padding='post', truncating='post')\n",
    "    \n",
    "    return dados_prep\n",
    "    "
   ]
  },
  {
   "cell_type": "code",
   "execution_count": 70,
   "id": "3bde03f3",
   "metadata": {
    "scrolled": true
   },
   "outputs": [
    {
     "name": "stdout",
     "output_type": "stream",
     "text": [
      "1/1 [==============================] - 1s 687ms/step\n",
      "O valor da predição para a frase negativa é: 0.0010001284535974264\n",
      "1/1 [==============================] - 1s 642ms/step\n",
      "O valor da predição para a frase positiva é: 0.9746255874633789\n",
      "1/1 [==============================] - 1s 620ms/step\n",
      "O valor da predição para a frase neutra é: 0.42375609278678894\n"
     ]
    }
   ],
   "source": [
    "negativo = prep_dados(\"I was really disappointed in this movie. The acting was wooden and uninspired, the pacing was slow, and the dialogue felt forced. Definitely not worth the ticket price.\")\n",
    "positivo = prep_dados(\"I thought this movie was pretty good. The cinematography was beautiful, the acting was solid, and the storyline was intriguing. It's not my favorite movie ever, but I enjoyed it.\")\n",
    "neutro = prep_dados(\"not Bad It was normal, I liked it partially!!!!!!\")\n",
    "\n",
    "print(f\"O valor da predição para a frase negativa é: {modelo.predict(negativo)[0][0]}\")\n",
    "print(f\"O valor da predição para a frase positiva é: {modelo.predict(positivo)[0][0]}\")\n",
    "print(f\"O valor da predição para a frase neutra é: {modelo.predict(neutro)[0][0]}\")"
   ]
  },
  {
   "cell_type": "markdown",
   "id": "6709301b",
   "metadata": {},
   "source": [
    "## Armazenamento do Modelo "
   ]
  },
  {
   "cell_type": "code",
   "execution_count": 71,
   "id": "2a309c2d",
   "metadata": {},
   "outputs": [
    {
     "name": "stdout",
     "output_type": "stream",
     "text": [
      "Keras weights file (<HDF5 file \"variables.h5\" (mode r+)>) saving:\n",
      "...layers\\activation\n",
      "......vars\n",
      "...layers\\bidirectional\n",
      "......vars\n",
      "...layers\\bidirectional\\backward_layer\n",
      "......vars\n",
      "...layers\\bidirectional\\backward_layer\\cell\n",
      "......vars\n",
      ".........0\n",
      ".........1\n",
      ".........2\n",
      "...layers\\bidirectional\\forward_layer\n",
      "......vars\n",
      "...layers\\bidirectional\\forward_layer\\cell\n",
      "......vars\n",
      ".........0\n",
      ".........1\n",
      ".........2\n",
      "...layers\\bidirectional\\layer\n",
      "......vars\n",
      "...layers\\bidirectional\\layer\\cell\n",
      "......vars\n",
      "...layers\\dense\n",
      "......vars\n",
      ".........0\n",
      ".........1\n",
      "...layers\\dense_1\n",
      "......vars\n",
      ".........0\n",
      ".........1\n",
      "...layers\\dense_2\n",
      "......vars\n",
      ".........0\n",
      ".........1\n",
      "...layers\\embedding\n",
      "......vars\n",
      ".........0\n",
      "...layers\\flatten\n",
      "......vars\n",
      "...layers\\input_layer\n",
      "......vars\n",
      "...layers\\lambda\n",
      "......vars\n",
      "...layers\\multiply\n",
      "......vars\n",
      "...layers\\permute\n",
      "......vars\n",
      "...layers\\repeat_vector\n",
      "......vars\n",
      "...layers\\reshape\n",
      "......vars\n",
      "...metrics\\mean\n",
      "......vars\n",
      ".........0\n",
      ".........1\n",
      "...metrics\\mean_metric_wrapper\n",
      "......vars\n",
      ".........0\n",
      ".........1\n",
      "...optimizer\n",
      "......vars\n",
      ".........0\n",
      ".........1\n",
      ".........10\n",
      ".........11\n",
      ".........12\n",
      ".........13\n",
      ".........14\n",
      ".........15\n",
      ".........16\n",
      ".........17\n",
      ".........18\n",
      ".........19\n",
      ".........2\n",
      ".........20\n",
      ".........21\n",
      ".........22\n",
      ".........23\n",
      ".........24\n",
      ".........25\n",
      ".........26\n",
      ".........3\n",
      ".........4\n",
      ".........5\n",
      ".........6\n",
      ".........7\n",
      ".........8\n",
      ".........9\n",
      "...vars\n",
      "Keras model archive saving:\n",
      "File Name                                             Modified             Size\n",
      "config.json                                    2023-02-27 06:11:04         5480\n",
      "metadata.json                                  2023-02-27 06:11:04           64\n",
      "variables.h5                                   2023-02-27 06:11:04     68933368\n"
     ]
    }
   ],
   "source": [
    "# Formato h5\n",
    "modelo.save(\"../models/modelo.h5\")\n",
    "# Formato pickle\n",
    "pl.dump(modelo, open('../models/modelo.pkl', 'wb'))"
   ]
  }
 ],
 "metadata": {
  "kernelspec": {
   "display_name": "Python 3 (ipykernel)",
   "language": "python",
   "name": "python3"
  },
  "language_info": {
   "codemirror_mode": {
    "name": "ipython",
    "version": 3
   },
   "file_extension": ".py",
   "mimetype": "text/x-python",
   "name": "python",
   "nbconvert_exporter": "python",
   "pygments_lexer": "ipython3",
   "version": "3.9.13"
  }
 },
 "nbformat": 4,
 "nbformat_minor": 5
}
