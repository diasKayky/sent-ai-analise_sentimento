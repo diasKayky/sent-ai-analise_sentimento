{
 "cells": [
  {
   "cell_type": "markdown",
   "id": "e5a19ce9",
   "metadata": {},
   "source": [
    "# Modelo de ML: Rede Neural LSTM"
   ]
  },
  {
   "cell_type": "markdown",
   "id": "1d5d77fd",
   "metadata": {},
   "source": [
    "## Configurações iniciais"
   ]
  },
  {
   "cell_type": "code",
   "execution_count": 65,
   "id": "593099a4",
   "metadata": {},
   "outputs": [],
   "source": [
    "# Importações de libraries importantes\n",
    "import pandas as pd\n",
    "import numpy as np\n",
    "import datetime\n",
    "import pickle as pl\n",
    "from tensorflow.keras.models import Sequential\n",
    "from tensorflow.keras.layers import Bidirectional, LSTM, Embedding, Dense, Dropout"
   ]
  },
  {
   "cell_type": "code",
   "execution_count": 66,
   "id": "7535726c",
   "metadata": {},
   "outputs": [],
   "source": [
    "# Carregamento de datasets processados\n",
    "X_train = pl.load(open('../data/processed/X_train.pkl', 'rb'))\n",
    "X_test = pl.load(open('../data/processed/X_test.pkl', 'rb'))\n",
    "Y_train = pl.load(open('../data/processed/Y_train.pkl', 'rb'))\n",
    "Y_test = pl.load(open('../data/processed/Y_test.pkl', 'rb'))"
   ]
  },
  {
   "cell_type": "markdown",
   "id": "567bd47d",
   "metadata": {},
   "source": [
    "## Construção do Modelo"
   ]
  },
  {
   "cell_type": "code",
   "execution_count": 67,
   "id": "ccb8b69f",
   "metadata": {},
   "outputs": [],
   "source": [
    "modelo = Sequential()"
   ]
  },
  {
   "cell_type": "markdown",
   "id": "572cc549",
   "metadata": {},
   "source": [
    "### Camadas de Entrada"
   ]
  },
  {
   "cell_type": "code",
   "execution_count": 68,
   "id": "0467d962",
   "metadata": {},
   "outputs": [],
   "source": [
    "# Camada de embedding que transforma as sequências em vetores densos\n",
    "\n",
    "dimensao_embedding = 32\n",
    "tamanho_frases = 250\n",
    "vocabulario_tamanho = 13000\n",
    "\n",
    "modelo.add(Embedding(vocabulario_tamanho, dimensao_embedding, input_length=tamanho_frases))"
   ]
  },
  {
   "cell_type": "markdown",
   "id": "b3ecc67f",
   "metadata": {},
   "source": [
    "### Camadas Escondidas"
   ]
  },
  {
   "cell_type": "code",
   "execution_count": 69,
   "id": "68482b60",
   "metadata": {},
   "outputs": [],
   "source": [
    "# Camada LSTM bidirecional para poder relembrar tanto passado --> futuro quanto futuro --> passado\n",
    "\n",
    "neuronios = 16\n",
    "modelo.add(Bidirectional(LSTM(neuronios)))\n",
    "\n",
    "# Camada dropout\n",
    "\n",
    "modelo.add(Dropout(0.1))"
   ]
  },
  {
   "cell_type": "markdown",
   "id": "36d1c1c1",
   "metadata": {},
   "source": [
    "### Camadas de Saída"
   ]
  },
  {
   "cell_type": "code",
   "execution_count": 70,
   "id": "b9076aa4",
   "metadata": {},
   "outputs": [],
   "source": [
    "# Camada densa que passa a saída (output)\n",
    "modelo.add(Dense(16, activation='relu'))\n",
    "modelo.add(Dense(1, activation='sigmoid'))"
   ]
  },
  {
   "cell_type": "markdown",
   "id": "16cab538",
   "metadata": {},
   "source": [
    "## Sumário do Modelo"
   ]
  },
  {
   "cell_type": "code",
   "execution_count": 71,
   "id": "6136e982",
   "metadata": {},
   "outputs": [
    {
     "name": "stdout",
     "output_type": "stream",
     "text": [
      "Model: \"sequential_7\"\n",
      "_________________________________________________________________\n",
      " Layer (type)                Output Shape              Param #   \n",
      "=================================================================\n",
      " embedding_8 (Embedding)     (None, 250, 32)           416000    \n",
      "                                                                 \n",
      " bidirectional_7 (Bidirectio  (None, 32)               6272      \n",
      " nal)                                                            \n",
      "                                                                 \n",
      " dropout_1 (Dropout)         (None, 32)                0         \n",
      "                                                                 \n",
      " dense_10 (Dense)            (None, 16)                528       \n",
      "                                                                 \n",
      " dense_11 (Dense)            (None, 1)                 17        \n",
      "                                                                 \n",
      "=================================================================\n",
      "Total params: 422,817\n",
      "Trainable params: 422,817\n",
      "Non-trainable params: 0\n",
      "_________________________________________________________________\n"
     ]
    }
   ],
   "source": [
    "modelo.summary()"
   ]
  },
  {
   "cell_type": "markdown",
   "id": "5f47cb24",
   "metadata": {},
   "source": [
    "## Compilação e Treinamento do Modelo "
   ]
  },
  {
   "cell_type": "code",
   "execution_count": 72,
   "id": "4f13b51a",
   "metadata": {},
   "outputs": [],
   "source": [
    "modelo.compile(loss='binary_crossentropy', optimizer='adam', metrics=['accuracy'])"
   ]
  },
  {
   "cell_type": "code",
   "execution_count": 60,
   "id": "2c89dab5",
   "metadata": {},
   "outputs": [
    {
     "name": "stdout",
     "output_type": "stream",
     "text": [
      "Epoch 1/2\n",
      "Epoch 2/2\n",
      "O tempo que levou para treinar é de 0:39:29.593908\n"
     ]
    }
   ],
   "source": [
    "now = datetime.datetime.now()\n",
    "\n",
    "modelo_ = modelo.fit(X_train, Y_train, epochs=2, validation_data=(X_test, Y_test), verbose=3, batch_size=5)\n",
    "\n",
    "now2 = datetime.datetime.now()\n",
    "time = now2 - now\n",
    "\n",
    "print(f\"O tempo que levou para treinar é de {time}\")"
   ]
  },
  {
   "cell_type": "code",
   "execution_count": 61,
   "id": "0c42215a",
   "metadata": {},
   "outputs": [
    {
     "data": {
      "text/html": [
       "<div>\n",
       "<style scoped>\n",
       "    .dataframe tbody tr th:only-of-type {\n",
       "        vertical-align: middle;\n",
       "    }\n",
       "\n",
       "    .dataframe tbody tr th {\n",
       "        vertical-align: top;\n",
       "    }\n",
       "\n",
       "    .dataframe thead th {\n",
       "        text-align: right;\n",
       "    }\n",
       "</style>\n",
       "<table border=\"1\" class=\"dataframe\">\n",
       "  <thead>\n",
       "    <tr style=\"text-align: right;\">\n",
       "      <th></th>\n",
       "      <th>loss</th>\n",
       "      <th>accuracy</th>\n",
       "      <th>val_loss</th>\n",
       "      <th>val_accuracy</th>\n",
       "    </tr>\n",
       "  </thead>\n",
       "  <tbody>\n",
       "    <tr>\n",
       "      <th>0</th>\n",
       "      <td>0.430190</td>\n",
       "      <td>0.808282</td>\n",
       "      <td>0.382392</td>\n",
       "      <td>0.826267</td>\n",
       "    </tr>\n",
       "    <tr>\n",
       "      <th>1</th>\n",
       "      <td>0.283262</td>\n",
       "      <td>0.889718</td>\n",
       "      <td>0.283666</td>\n",
       "      <td>0.890667</td>\n",
       "    </tr>\n",
       "  </tbody>\n",
       "</table>\n",
       "</div>"
      ],
      "text/plain": [
       "       loss  accuracy  val_loss  val_accuracy\n",
       "0  0.430190  0.808282  0.382392      0.826267\n",
       "1  0.283262  0.889718  0.283666      0.890667"
      ]
     },
     "execution_count": 61,
     "metadata": {},
     "output_type": "execute_result"
    }
   ],
   "source": [
    "history = pd.DataFrame(modelo_.history)\n",
    "history"
   ]
  },
  {
   "cell_type": "code",
   "execution_count": 63,
   "id": "1305345e",
   "metadata": {},
   "outputs": [
    {
     "name": "stdout",
     "output_type": "stream",
     "text": [
      "235/235 [==============================] - 18s 52ms/step\n"
     ]
    },
    {
     "data": {
      "text/plain": [
       "array([0, 0, 1, ..., 1, 1, 0])"
      ]
     },
     "execution_count": 63,
     "metadata": {},
     "output_type": "execute_result"
    }
   ],
   "source": [
    "y_pred = modelo.predict(X_test)\n",
    "y_pred = np.array(list(map(lambda x: 1 if x > 0.5 else 0, y_pred)))\n",
    "y_pred"
   ]
  },
  {
   "cell_type": "code",
   "execution_count": 64,
   "id": "e24976f6",
   "metadata": {},
   "outputs": [
    {
     "name": "stdout",
     "output_type": "stream",
     "text": [
      "              precision    recall  f1-score   support\n",
      "\n",
      "           0       0.88      0.90      0.89      3755\n",
      "           1       0.90      0.88      0.89      3745\n",
      "\n",
      "    accuracy                           0.89      7500\n",
      "   macro avg       0.89      0.89      0.89      7500\n",
      "weighted avg       0.89      0.89      0.89      7500\n",
      "\n"
     ]
    }
   ],
   "source": [
    "from sklearn.metrics import classification_report\n",
    "\n",
    "print(classification_report(Y_test, y_pred))"
   ]
  },
  {
   "cell_type": "code",
   "execution_count": null,
   "id": "ebb9ad58",
   "metadata": {},
   "outputs": [],
   "source": []
  }
 ],
 "metadata": {
  "kernelspec": {
   "display_name": "Python 3 (ipykernel)",
   "language": "python",
   "name": "python3"
  },
  "language_info": {
   "codemirror_mode": {
    "name": "ipython",
    "version": 3
   },
   "file_extension": ".py",
   "mimetype": "text/x-python",
   "name": "python",
   "nbconvert_exporter": "python",
   "pygments_lexer": "ipython3",
   "version": "3.9.13"
  }
 },
 "nbformat": 4,
 "nbformat_minor": 5
}
